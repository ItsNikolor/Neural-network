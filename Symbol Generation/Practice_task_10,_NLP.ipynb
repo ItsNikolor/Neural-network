{
 "cells": [
  {
   "cell_type": "markdown",
   "metadata": {
    "colab_type": "text",
    "id": "hHE44GjlGF8i"
   },
   "source": [
    "## Семинар 10: \"Генерация текстов\""
   ]
  },
  {
   "cell_type": "markdown",
   "metadata": {
    "colab_type": "text",
    "id": "U_FILwL5GF8y"
   },
   "source": [
    "ФИО: Вербин Олег"
   ]
  },
  {
   "cell_type": "code",
   "execution_count": 0,
   "metadata": {
    "colab": {},
    "colab_type": "code",
    "id": "wb9PHyE_GF9T"
   },
   "outputs": [],
   "source": [
    "import numpy as np\n",
    "import re\n",
    "from torch import nn\n",
    "from torch.autograd import Variable\n",
    "import matplotlib.pyplot as plt\n",
    "import torch\n",
    "from torch.utils.data import Dataset, DataLoader\n",
    "import sys\n",
    "from IPython.display import clear_output\n",
    "import tqdm\n",
    "import progressbar\n",
    "%matplotlib inline"
   ]
  },
  {
   "cell_type": "markdown",
   "metadata": {
    "colab_type": "text",
    "id": "SUypkQ2_GF9p"
   },
   "source": [
    "Этот семинар посвящен чат-ботам. Вам предстоит реализовать модель, генерирующую определенные тексты. В качестве текстов можно взять сборник цитат умных людей, предсказаний и т.д. На семинаре мы используем данные https://github.com/alvations/Quotables/blob/master/author-quote.txt\n",
    "\n",
    "При реализации задания вы можете пользоваться кодом из этого примера: <a href=https://github.com/spro/practical-pytorch/blob/master/char-rnn-generation/char-rnn-generation.ipynb>Generating Shakespeare with a Character-Level RNN</a>"
   ]
  },
  {
   "cell_type": "markdown",
   "metadata": {
    "colab_type": "text",
    "id": "1AAEQg_qGF9r"
   },
   "source": [
    "### Часть 1: подготовка данных"
   ]
  },
  {
   "cell_type": "markdown",
   "metadata": {
    "colab_type": "text",
    "id": "PYOcv9e3GF9w"
   },
   "source": [
    "Реализуйте датасет для дальнейшего обучения (будем использовать batch size=1)"
   ]
  },
  {
   "cell_type": "code",
   "execution_count": 0,
   "metadata": {
    "colab": {},
    "colab_type": "code",
    "id": "zEqywBMiGF95"
   },
   "outputs": [],
   "source": [
    "lines = [x.split('\\t')[1].strip() for x in open('author-quote.txt').readlines()]"
   ]
  },
  {
   "cell_type": "code",
   "execution_count": 6,
   "metadata": {
    "colab": {
     "base_uri": "https://localhost:8080/",
     "height": 265
    },
    "colab_type": "code",
    "id": "2hwPGy7NGF-d",
    "outputId": "a0a9179e-7c03-4faf-cec4-9cd91cdc5599"
   },
   "outputs": [
    {
     "data": {
      "image/png": "[encoded data removed]",
      "text/plain": [
       "<Figure size 432x288 with 1 Axes>"
      ]
     },
     "metadata": {
      "needs_background": "light",
      "tags": []
     },
     "output_type": "display_data"
    }
   ],
   "source": [
    "plt.hist(list(map(len, lines)), bins=100);"
   ]
  },
  {
   "cell_type": "code",
   "execution_count": 7,
   "metadata": {
    "colab": {
     "base_uri": "https://localhost:8080/",
     "height": 265
    },
    "colab_type": "code",
    "id": "ju1WJL7qGF_E",
    "outputId": "2e613d82-2cfe-4886-d064-83b014550280"
   },
   "outputs": [
    {
     "data": {
      "image/png": "[encoded data removed]",
      "text/plain": [
       "<Figure size 432x288 with 1 Axes>"
      ]
     },
     "metadata": {
      "needs_background": "light",
      "tags": []
     },
     "output_type": "display_data"
    }
   ],
   "source": [
    "plt.hist(list(map(lambda x: len(x.split()), lines)), bins=100);"
   ]
  },
  {
   "cell_type": "code",
   "execution_count": 0,
   "metadata": {
    "colab": {},
    "colab_type": "code",
    "id": "4M48K8bSGF_p"
   },
   "outputs": [],
   "source": [
    "line = lines[0]"
   ]
  },
  {
   "cell_type": "code",
   "execution_count": 9,
   "metadata": {
    "colab": {
     "base_uri": "https://localhost:8080/",
     "height": 35
    },
    "colab_type": "code",
    "id": "1DCUpM9pGGAS",
    "outputId": "b5b57b6b-ff02-4999-b57f-7a75ed0983ef"
   },
   "outputs": [
    {
     "data": {
      "text/plain": [
       "'If you live to be a hundred, I want to live to be a hundred minus one day so I never have to live without you.'"
      ]
     },
     "execution_count": 9,
     "metadata": {
      "tags": []
     },
     "output_type": "execute_result"
    }
   ],
   "source": [
    "line"
   ]
  },
  {
   "cell_type": "code",
   "execution_count": 0,
   "metadata": {
    "colab": {},
    "colab_type": "code",
    "id": "nto6Mf8FGGAt"
   },
   "outputs": [],
   "source": [
    "lines = list(filter(lambda x: len(x.split()) <= 50, lines))"
   ]
  },
  {
   "cell_type": "code",
   "execution_count": 9,
   "metadata": {
    "colab": {
     "base_uri": "https://localhost:8080/",
     "height": 35
    },
    "colab_type": "code",
    "id": "cK_b5OSPGGBZ",
    "outputId": "6a242b63-c953-46de-8d7c-7425312f84df"
   },
   "outputs": [
    {
     "data": {
      "text/plain": [
       "<torch._C.Generator at 0x7facefb67330>"
      ]
     },
     "execution_count": 9,
     "metadata": {
      "tags": []
     },
     "output_type": "execute_result"
    }
   ],
   "source": [
    "np.random.seed(777)\n",
    "torch.random.manual_seed(777)"
   ]
  },
  {
   "cell_type": "code",
   "execution_count": 0,
   "metadata": {
    "colab": {},
    "colab_type": "code",
    "id": "IE6ISNFQGGB0"
   },
   "outputs": [],
   "source": [
    "class Vocabulary:\n",
    "    def __init__(self, sentences):\n",
    "        all_characters = set()\n",
    "        for line in sentences:\n",
    "            all_characters |= set(line)\n",
    "        all_characters = list(sorted(all_characters))+['<eos>', '<go>']\n",
    "        self.char_to_id = {x[1]:x[0] for x in enumerate(all_characters)}\n",
    "        self.id_to_char = {x[0]:x[1] for x in enumerate(all_characters)}\n",
    "        self.size = len(all_characters)\n",
    "\n",
    "    def encode(self, line):\n",
    "        return [self.char_to_id[x] for x in line]\n",
    "    \n",
    "    def decode(self, tokens):\n",
    "        return ''.join([self.id_to_char[x] for x in tokens])"
   ]
  },
  {
   "cell_type": "code",
   "execution_count": 0,
   "metadata": {
    "colab": {},
    "colab_type": "code",
    "id": "4N7qvPYcGGCI"
   },
   "outputs": [],
   "source": [
    "vocab = Vocabulary(lines)"
   ]
  },
  {
   "cell_type": "code",
   "execution_count": 0,
   "metadata": {
    "colab": {},
    "colab_type": "code",
    "id": "LJEP7F_zGGCk"
   },
   "outputs": [],
   "source": [
    "assert vocab.decode(vocab.encode(lines[0])) == lines[0]"
   ]
  },
  {
   "cell_type": "code",
   "execution_count": 0,
   "metadata": {
    "colab": {},
    "colab_type": "code",
    "id": "E2yDiuCYGGDF"
   },
   "outputs": [],
   "source": [
    "class Quotes(Dataset):\n",
    "    def __init__(self, sentences, vocab):\n",
    "        # Construct vocabulary + EOS & GO tokens\n",
    "        self.sentences = sentences\n",
    "        self.vocab = vocab\n",
    "        self.go = self.vocab.char_to_id['<go>']\n",
    "        self.eos = self.vocab.char_to_id['<eos>']\n",
    "        \n",
    "    def __len__(self):\n",
    "        return len(self.sentences)\n",
    "        \n",
    "    def __getitem__(self, idx):\n",
    "        tokens = self.vocab.encode(self.sentences[idx])\n",
    "        _input = np.array([self.go]+tokens)\n",
    "        _output = np.array(tokens+[self.eos])\n",
    "        return _input, _output"
   ]
  },
  {
   "cell_type": "code",
   "execution_count": 0,
   "metadata": {
    "colab": {},
    "colab_type": "code",
    "id": "F3ykrJJfGGDj"
   },
   "outputs": [],
   "source": [
    "def compose_batch(batch):\n",
    "    order = np.argsort([-len(x[0]) for x in batch])\n",
    "    lengths = torch.LongTensor([len(x[0]) for x in batch]).cuda()\n",
    "    go = torch.zeros(len(batch), lengths[order[0]]).long().cuda()\n",
    "    eos = torch.zeros(len(batch), lengths[order[0]]).long().cuda()\n",
    "    mask = torch.zeros(len(batch), lengths[order[0]]).long().cuda()\n",
    "    for i in range(len(batch)):\n",
    "        current_go, current_eos = batch[i]\n",
    "        go[i, :len(current_go)] = torch.tensor(current_go)\n",
    "        eos[i, :len(current_eos)] = torch.tensor(current_eos)\n",
    "        mask[i, :len(current_go)] = 1\n",
    "    mask = mask[order]\n",
    "    go = go[order]\n",
    "    eos = eos[order]\n",
    "    lengths = lengths[order]\n",
    "    return go, eos, mask, lengths"
   ]
  },
  {
   "cell_type": "code",
   "execution_count": 17,
   "metadata": {
    "colab": {
     "base_uri": "https://localhost:8080/",
     "height": 35
    },
    "colab_type": "code",
    "id": "CiL_Q7D9cOL4",
    "outputId": "36e1942f-1f12-4f27-fa7b-e3fa0e788f21"
   },
   "outputs": [
    {
     "data": {
      "text/plain": [
       "34251"
      ]
     },
     "execution_count": 17,
     "metadata": {
      "tags": []
     },
     "output_type": "execute_result"
    }
   ],
   "source": [
    "len(lines)"
   ]
  },
  {
   "cell_type": "code",
   "execution_count": 0,
   "metadata": {
    "colab": {},
    "colab_type": "code",
    "id": "veAoHm1iGGEG"
   },
   "outputs": [],
   "source": [
    "dataset = Quotes(lines[:-1000], vocab)\n",
    "testset = Quotes(lines[-1000:], vocab)"
   ]
  },
  {
   "cell_type": "code",
   "execution_count": 0,
   "metadata": {
    "colab": {},
    "colab_type": "code",
    "id": "fmVbVjNGGGEm"
   },
   "outputs": [],
   "source": [
    "dataloader = DataLoader(dataset, shuffle=True, batch_size=64, collate_fn=compose_batch)\n",
    "testloader = DataLoader(testset, shuffle=True, batch_size=64, collate_fn=compose_batch)"
   ]
  },
  {
   "cell_type": "markdown",
   "metadata": {
    "colab_type": "text",
    "id": "MQ4b1If1GGFb"
   },
   "source": [
    "### Часть 2: определение модели"
   ]
  },
  {
   "cell_type": "code",
   "execution_count": 0,
   "metadata": {
    "colab": {},
    "colab_type": "code",
    "id": "htldxbeaGGFd"
   },
   "outputs": [],
   "source": [
    "class Oracle(nn.Module):\n",
    "    def __init__(self, vocabulary_size, embedding_size=128, hidden_size=256, layers=2):\n",
    "        super(Oracle, self).__init__()\n",
    "        self.embedding_size = embedding_size\n",
    "        self.layers = layers\n",
    "        self.hidden_size = hidden_size\n",
    "        self.embedding = nn.Embedding(vocabulary_size, embedding_size)\n",
    "        self.generator = nn.LSTM(embedding_size, hidden_size, layers, batch_first=False)\n",
    "        self.classifier = nn.Linear(hidden_size, vocabulary_size)\n",
    "\n",
    "    def forward(self, _input, lengths):\n",
    "        embedding = self.embedding(_input).transpose(0, 1)\n",
    "        embedding = nn.utils.rnn.pack_padded_sequence(embedding, lengths)\n",
    "        output, _ = self.generator(embedding)\n",
    "        output = nn.utils.rnn.pad_packed_sequence(output)\n",
    "        classes = self.classifier(output[0])\n",
    "        return classes\n",
    "\n",
    "    def generate(self, vocab, max_len=100):\n",
    "        h = Variable(torch.zeros(self.layers, 1, self.hidden_size)).cuda()\n",
    "        c = Variable(torch.zeros(self.layers, 1, self.hidden_size)).cuda()\n",
    "        current_token = '<go>'\n",
    "        line = ''\n",
    "        while (current_token != '<eos>') and len(line) < max_len:\n",
    "            token = torch.Tensor([[vocab.char_to_id[current_token]]]).long().cuda()\n",
    "            token_id = Variable(token)\n",
    "            embedding = self.embedding(token_id)\n",
    "            output, (h,c) = self.generator(embedding, (h,c))\n",
    "            classes = self.classifier(output[0])\n",
    "            classes_probs = nn.Softmax(dim=1)(classes)\n",
    "            sampler = torch.distributions.Categorical(classes_probs[0])\n",
    "            new_token_id = sampler.sample().data.cpu().numpy().item()\n",
    "            current_token = vocab.id_to_char[new_token_id]\n",
    "            line = line + current_token\n",
    "        return line"
   ]
  },
  {
   "cell_type": "code",
   "execution_count": 0,
   "metadata": {
    "colab": {},
    "colab_type": "code",
    "id": "BMRMYzhDGGGo"
   },
   "outputs": [],
   "source": [
    "oracle = Oracle(vocab.size, embedding_size=128, hidden_size=512, layers=2)\n",
    "oracle=oracle.cuda()"
   ]
  },
  {
   "cell_type": "markdown",
   "metadata": {
    "colab_type": "text",
    "id": "MY3tXAyNGGGx"
   },
   "source": [
    "### Часть 3: обучение модели"
   ]
  },
  {
   "cell_type": "code",
   "execution_count": 0,
   "metadata": {
    "colab": {},
    "colab_type": "code",
    "id": "ShoxmpDBGGHG"
   },
   "outputs": [],
   "source": [
    "def moving_average(a, n=20) :\n",
    "    ret = np.cumsum(a, dtype=float)\n",
    "    ret[n:] = ret[n:] - ret[:-n]\n",
    "    return ret[n - 1:] / n\n",
    "\n",
    "def gen_test():\n",
    "    while True:\n",
    "        for x in testloader:\n",
    "            yield x"
   ]
  },
  {
   "cell_type": "code",
   "execution_count": 31,
   "metadata": {
    "colab": {
     "base_uri": "https://localhost:8080/",
     "height": 902
    },
    "colab_type": "code",
    "id": "t-exv0QBj3hN",
    "outputId": "4e77f5bd-0d36-422a-babb-8c53dff22c88"
   },
   "outputs": [
    {
     "data": {
      "image/png": "[encoded data removed]",
      "text/plain": [
       "<Figure size 864x504 with 2 Axes>"
      ]
     },
     "metadata": {
      "needs_background": "light",
      "tags": []
     },
     "output_type": "display_data"
    },
    {
     "data": {
      "image/png": "[encoded data removed]",
      "text/plain": [
       "<Figure size 864x504 with 2 Axes>"
      ]
     },
     "metadata": {
      "needs_background": "light",
      "tags": []
     },
     "output_type": "display_data"
    },
    {
     "name": "stderr",
     "output_type": "stream",
     "text": [
      "100%|██████████| 520/520 [03:20<00:00,  2.60it/s]\n",
      "\n"
     ]
    }
   ],
   "source": [
    "losses = []\n",
    "test_losses=[]\n",
    "\n",
    "test=gen_test()\n",
    "\n",
    "criterion = nn.CrossEntropyLoss(reduction='none')\n",
    "optimizer = torch.optim.RMSprop(oracle.parameters(), lr=0.001, weight_decay=1e-5)\n",
    "for epoch in range(10):\n",
    "    bar = progressbar.ProgressBar()\n",
    "    for i, (go, eos, mask, length) in enumerate(tqdm.tqdm(dataloader, total=len(dataloader))):\n",
    "        oracle.zero_grad()\n",
    "        prediction = oracle(go, length).transpose(0, 1).transpose(1, 2)\n",
    "        loss = (criterion(prediction, eos)*mask.float()).mean()\n",
    "        loss.backward()\n",
    "        [x.grad.clamp_(-1, 1) for x in oracle.parameters()]\n",
    "        optimizer.step()\n",
    "        losses.append(np.exp(loss.item()))\n",
    "        with torch.no_grad():\n",
    "            (go, eos, mask, length) = next(test)\n",
    "            prediction = oracle(go, length).transpose(0, 1).transpose(1, 2)\n",
    "            loss = (criterion(prediction, eos)*mask.float()).mean()\n",
    "            test_losses.append(np.exp(loss.item()))\n",
    "\n",
    "        if i % 50 == 0:\n",
    "            clear_output(True)\n",
    "            plt.figure(figsize=(12,7))\n",
    "            plt.subplot(1,2,1)\n",
    "            plt.plot(losses, label='Train')\n",
    "            plt.plot(moving_average(losses), label='MA@20')\n",
    "            plt.xlabel('iteration')\n",
    "            plt.ylabel('perplexity')\n",
    "            plt.legend()\n",
    "            plt.grid()\n",
    "            \n",
    "\n",
    "            plt.subplot(1,2,2)\n",
    "            plt.plot(test_losses, label='Test')\n",
    "            plt.plot(moving_average(test_losses), label='MA@20')\n",
    "            plt.xlabel('iteration')\n",
    "            plt.ylabel('perplexity')\n",
    "            plt.legend()\n",
    "            plt.grid()\n",
    "            plt.show()"
   ]
  },
  {
   "cell_type": "markdown",
   "metadata": {
    "colab_type": "text",
    "id": "YZw9cd2WGGHj"
   },
   "source": [
    "### Часть 4: оценивание модели"
   ]
  },
  {
   "cell_type": "markdown",
   "metadata": {
    "colab_type": "text",
    "id": "k_YPXoA0GGHk"
   },
   "source": [
    "<i> Приведите примеры сгенерированных предложений </i>"
   ]
  },
  {
   "cell_type": "code",
   "execution_count": 0,
   "metadata": {
    "colab": {},
    "colab_type": "code",
    "id": "u5piZm3BuKVQ"
   },
   "outputs": [],
   "source": [
    "oracle=oracle.eval()"
   ]
  },
  {
   "cell_type": "code",
   "execution_count": 58,
   "metadata": {
    "colab": {
     "base_uri": "https://localhost:8080/",
     "height": 35
    },
    "colab_type": "code",
    "id": "BHZ-coJTuN8w",
    "outputId": "ee888cee-2d30-49b9-ddeb-3a0440e8cb1b"
   },
   "outputs": [
    {
     "data": {
      "text/plain": [
       "'A desire despises to be best. You have to use sitcom on a blow opportune.<eos>'"
      ]
     },
     "execution_count": 58,
     "metadata": {
      "tags": []
     },
     "output_type": "execute_result"
    }
   ],
   "source": [
    "generate(oracle,vocab)"
   ]
  },
  {
   "cell_type": "code",
   "execution_count": 52,
   "metadata": {
    "colab": {
     "base_uri": "https://localhost:8080/",
     "height": 35
    },
    "colab_type": "code",
    "id": "eEbu4dJ9uTJH",
    "outputId": "13de1fb9-04cb-4169-d04e-9c9c5c744a60"
   },
   "outputs": [
    {
     "data": {
      "text/plain": [
       "'I control the name at evil in reward to be on patient.<eos>'"
      ]
     },
     "execution_count": 52,
     "metadata": {
      "tags": []
     },
     "output_type": "execute_result"
    }
   ],
   "source": [
    "oracle.generate(vocab)"
   ]
  },
  {
   "cell_type": "code",
   "execution_count": 53,
   "metadata": {
    "colab": {
     "base_uri": "https://localhost:8080/",
     "height": 35
    },
    "colab_type": "code",
    "id": "bT7nHRfluXF0",
    "outputId": "266f788e-f505-49d3-e7d1-f9c9792b6dfa"
   },
   "outputs": [
    {
     "data": {
      "text/plain": [
       "\"It's not to say that 'Nomah' qualifly better to be scopened now. That stone becomes that you have to\""
      ]
     },
     "execution_count": 53,
     "metadata": {
      "tags": []
     },
     "output_type": "execute_result"
    }
   ],
   "source": [
    "oracle.generate(vocab)"
   ]
  },
  {
   "cell_type": "code",
   "execution_count": 54,
   "metadata": {
    "colab": {
     "base_uri": "https://localhost:8080/",
     "height": 35
    },
    "colab_type": "code",
    "id": "KiHECzlDuYB7",
    "outputId": "429c2979-c96d-47a3-9f00-1687ed74d1ce"
   },
   "outputs": [
    {
     "data": {
      "text/plain": [
       "'There are many worst. I think of courage to put once a little bit of ain air and score, or ever woul'"
      ]
     },
     "execution_count": 54,
     "metadata": {
      "tags": []
     },
     "output_type": "execute_result"
    }
   ],
   "source": [
    "oracle.generate(vocab)"
   ]
  },
  {
   "cell_type": "code",
   "execution_count": 56,
   "metadata": {
    "colab": {
     "base_uri": "https://localhost:8080/",
     "height": 35
    },
    "colab_type": "code",
    "id": "s0kGbKrOuAJ5",
    "outputId": "49ef1991-1f10-4655-e817-4eb1501aa957"
   },
   "outputs": [
    {
     "data": {
      "text/plain": [
       "'Sudan opinion continue to gruest.<eos>'"
      ]
     },
     "execution_count": 56,
     "metadata": {
      "tags": []
     },
     "output_type": "execute_result"
    }
   ],
   "source": [
    "oracle.generate(vocab)"
   ]
  },
  {
   "cell_type": "markdown",
   "metadata": {
    "colab_type": "text",
    "id": "0KyjiObuGGHt"
   },
   "source": [
    "## HW 1 (3 балла)\n",
    "1. Обучить сеть с LSTM вместо GRU\n",
    "2. Сделать разбиение train-test и нарисовать графики зависимости перплексии от числа эпох\n",
    "3. Подобрать гиперпараметры, добиться лучшей перплексии чем с параметрами по умолчанию"
   ]
  },
  {
   "cell_type": "markdown",
   "metadata": {
    "colab_type": "text",
    "id": "pVwmGwV0jfjA"
   },
   "source": [
    "***Гиперпараметрами здесь могут являться параметры оптимизатора, а так-же архитектура сети. Я буду оптимизирвоать архитектуру сети и буду смотреть только на несколько первых эпох***"
   ]
  },
  {
   "cell_type": "code",
   "execution_count": 0,
   "metadata": {
    "colab": {},
    "colab_type": "code",
    "id": "D0ZgFIN5nkmx"
   },
   "outputs": [],
   "source": [
    "def combine(l):\n",
    "    if len(l)==1:\n",
    "        yield from [ (i,) for i in l[0]]\n",
    "    else:\n",
    "        yield from [(i,*j) for i in l[0] for j in combine(l[1:])]"
   ]
  },
  {
   "cell_type": "code",
   "execution_count": 19,
   "metadata": {
    "colab": {
     "base_uri": "https://localhost:8080/",
     "height": 297
    },
    "colab_type": "code",
    "id": "tnRt4erNkk78",
    "outputId": "9d1d1220-7955-4d27-d036-f7b7432db8dd"
   },
   "outputs": [
    {
     "data": {
      "image/png": "[encoded data removed]",
      "text/plain": [
       "<Figure size 432x288 with 1 Axes>"
      ]
     },
     "metadata": {
      "needs_background": "light",
      "tags": []
     },
     "output_type": "display_data"
    },
    {
     "name": "stderr",
     "output_type": "stream",
     "text": [
      "100%|██████████| 520/520 [01:11<00:00,  7.25it/s]\n"
     ]
    }
   ],
   "source": [
    "all_losses=[]\n",
    "for num,(es,hs,l) in enumerate(combine([ [32,64], # embedding_size\n",
    "                                        [64,128], # hidden_size\n",
    "                                        [2,3]      # layers\n",
    "                                    ])):\n",
    "    \n",
    "    oracle = Oracle(vocab.size, embedding_size=es, hidden_size=hs, layers=l).cuda()\n",
    "\n",
    "    test_losses=[]\n",
    "    test=gen_test()\n",
    "\n",
    "    criterion = nn.CrossEntropyLoss(reduction='none')\n",
    "    optimizer = torch.optim.RMSprop(oracle.parameters(), lr=0.001, weight_decay=1e-5)\n",
    "    for epoch in range(2):\n",
    "        bar = progressbar.ProgressBar()\n",
    "        for i, (go, eos, mask, length) in enumerate(tqdm.tqdm(dataloader, total=len(dataloader))):\n",
    "            oracle.zero_grad()\n",
    "            prediction = oracle(go, length).transpose(0, 1).transpose(1, 2)\n",
    "            loss = (criterion(prediction, eos)*mask.float()).mean()\n",
    "            loss.backward()\n",
    "            [x.grad.clamp_(-1, 1) for x in oracle.parameters()]\n",
    "            optimizer.step()\n",
    "\n",
    "            if i%5==0:\n",
    "                with torch.no_grad():\n",
    "                    (go, eos, mask, length) = next(test)\n",
    "                    prediction = oracle(go, length).transpose(0, 1).transpose(1, 2)\n",
    "                    loss = (criterion(prediction, eos)*mask.float()).mean()\n",
    "                    test_losses.append(np.exp(loss.item()))\n",
    "\n",
    "            if i % 50 == 0:\n",
    "                clear_output(True)\n",
    "                plt.plot(test_losses, label='Test')\n",
    "                plt.plot(moving_average(test_losses), label='MA@20')\n",
    "                plt.xlabel('iteration')\n",
    "                plt.ylabel('perplexity')\n",
    "                plt.legend()\n",
    "                plt.grid()\n",
    "                plt.show()\n",
    "    all_losses.append((es,hs,l,test_losses))"
   ]
  },
  {
   "cell_type": "code",
   "execution_count": 32,
   "metadata": {
    "colab": {
     "base_uri": "https://localhost:8080/",
     "height": 156
    },
    "colab_type": "code",
    "id": "Jyqja4IVn_tX",
    "outputId": "a764d83a-71bf-42b5-eb7c-c0d85a5c12da"
   },
   "outputs": [
    {
     "name": "stdout",
     "output_type": "stream",
     "text": [
      "emb_size=32  hidden_size=64  num_layers=2  min_loss = 1.8558119567629416\n",
      "emb_size=32  hidden_size=64  num_layers=3  min_loss = 1.9809684129410419\n",
      "emb_size=32  hidden_size=128  num_layers=2  min_loss = 1.6755602945055397\n",
      "emb_size=32  hidden_size=128  num_layers=3  min_loss = 1.7597762659731346\n",
      "emb_size=64  hidden_size=64  num_layers=2  min_loss = 1.7975171473739113\n",
      "emb_size=64  hidden_size=64  num_layers=3  min_loss = 1.8956758457980591\n",
      "emb_size=64  hidden_size=128  num_layers=2  min_loss = 1.6358763403003265\n",
      "emb_size=64  hidden_size=128  num_layers=3  min_loss = 1.7177088964185883\n"
     ]
    }
   ],
   "source": [
    "for es,hs,l,loss in all_losses:\n",
    "    print(f'emb_size={es}  hidden_size={hs}  num_layers={l}  min_loss = {min(loss)}')"
   ]
  },
  {
   "cell_type": "code",
   "execution_count": 21,
   "metadata": {
    "colab": {
     "base_uri": "https://localhost:8080/",
     "height": 297
    },
    "colab_type": "code",
    "id": "L0HBDAalriMa",
    "outputId": "61ddd478-e3b9-4cd0-ddba-225f211c0ce5"
   },
   "outputs": [
    {
     "data": {
      "image/png": "[encoded data removed]",
      "text/plain": [
       "<Figure size 432x288 with 1 Axes>"
      ]
     },
     "metadata": {
      "needs_background": "light",
      "tags": []
     },
     "output_type": "display_data"
    },
    {
     "name": "stderr",
     "output_type": "stream",
     "text": [
      "100%|██████████| 520/520 [02:16<00:00,  3.81it/s]\n"
     ]
    }
   ],
   "source": [
    "all_losses1=[]\n",
    "for num,(es,hs,l) in enumerate(combine([ [128], # embedding_size\n",
    "                                        [256], # hidden_size\n",
    "                                        [2,4,6]      # layers\n",
    "                                    ])):\n",
    "    \n",
    "    oracle = Oracle(vocab.size, embedding_size=es, hidden_size=hs, layers=l).cuda()\n",
    "\n",
    "    test_losses=[]\n",
    "    test=gen_test()\n",
    "\n",
    "    criterion = nn.CrossEntropyLoss(reduction='none')\n",
    "    optimizer = torch.optim.RMSprop(oracle.parameters(), lr=0.001, weight_decay=1e-5)\n",
    "    for epoch in range(4):\n",
    "        bar = progressbar.ProgressBar()\n",
    "        for i, (go, eos, mask, length) in enumerate(tqdm.tqdm(dataloader, total=len(dataloader))):\n",
    "            oracle.zero_grad()\n",
    "            prediction = oracle(go, length).transpose(0, 1).transpose(1, 2)\n",
    "            loss = (criterion(prediction, eos)*mask.float()).mean()\n",
    "            loss.backward()\n",
    "            [x.grad.clamp_(-1, 1) for x in oracle.parameters()]\n",
    "            optimizer.step()\n",
    "\n",
    "            if i%5==0:\n",
    "                with torch.no_grad():\n",
    "                    (go, eos, mask, length) = next(test)\n",
    "                    prediction = oracle(go, length).transpose(0, 1).transpose(1, 2)\n",
    "                    loss = (criterion(prediction, eos)*mask.float()).mean()\n",
    "                    test_losses.append(np.exp(loss.item()))\n",
    "\n",
    "            if i % 50 == 0:\n",
    "                clear_output(True)\n",
    "                plt.plot(test_losses, label='Test')\n",
    "                plt.plot(moving_average(test_losses), label='MA@20')\n",
    "                plt.xlabel('iteration')\n",
    "                plt.ylabel('perplexity')\n",
    "                plt.legend()\n",
    "                plt.grid()\n",
    "                plt.show()\n",
    "    all_losses1.append((es,hs,l,test_losses))"
   ]
  },
  {
   "cell_type": "code",
   "execution_count": 22,
   "metadata": {
    "colab": {
     "base_uri": "https://localhost:8080/",
     "height": 69
    },
    "colab_type": "code",
    "id": "HONKDKnFsV-4",
    "outputId": "9af244cd-3f6e-4ded-92cf-945912378d64"
   },
   "outputs": [
    {
     "name": "stdout",
     "output_type": "stream",
     "text": [
      "emb_size=128  hidden_size=256  num_layers=2  min_loss = 1.4992072860413481\n",
      "emb_size=128  hidden_size=256  num_layers=4  min_loss = 1.5107734024007053\n",
      "emb_size=128  hidden_size=256  num_layers=6  min_loss = 1.6356494599727134\n"
     ]
    }
   ],
   "source": [
    "for es,hs,l,loss in all_losses1:\n",
    "    print(f'emb_size={es}  hidden_size={hs}  num_layers={l}  min_loss = {min(loss)}')"
   ]
  },
  {
   "cell_type": "code",
   "execution_count": 28,
   "metadata": {
    "colab": {
     "base_uri": "https://localhost:8080/",
     "height": 297
    },
    "colab_type": "code",
    "id": "IRZWZLw3Ag6v",
    "outputId": "75b8dfd6-5dd6-48bb-cab3-a63ab7cdc378"
   },
   "outputs": [
    {
     "data": {
      "image/png": "[encoded data removed]",
      "text/plain": [
       "<Figure size 432x288 with 1 Axes>"
      ]
     },
     "metadata": {
      "needs_background": "light",
      "tags": []
     },
     "output_type": "display_data"
    },
    {
     "name": "stderr",
     "output_type": "stream",
     "text": [
      "100%|██████████| 520/520 [04:51<00:00,  1.78it/s]\n"
     ]
    }
   ],
   "source": [
    "all_losses2=[]\n",
    "for num,(es,hs,l) in enumerate(combine([ [128,256,512], # embedding_size\n",
    "                                        [256,512,768], # hidden_size\n",
    "                                        [2]      # layers\n",
    "                                    ])):\n",
    "    \n",
    "    oracle = Oracle(vocab.size, embedding_size=es, hidden_size=hs, layers=l).cuda()\n",
    "\n",
    "    test_losses=[]\n",
    "    test=gen_test()\n",
    "\n",
    "    criterion = nn.CrossEntropyLoss(reduction='none')\n",
    "    optimizer = torch.optim.RMSprop(oracle.parameters(), lr=0.001, weight_decay=1e-5)\n",
    "    for epoch in range(4):\n",
    "        bar = progressbar.ProgressBar()\n",
    "        for i, (go, eos, mask, length) in enumerate(tqdm.tqdm(dataloader, total=len(dataloader))):\n",
    "            oracle.zero_grad()\n",
    "            prediction = oracle(go, length).transpose(0, 1).transpose(1, 2)\n",
    "            loss = (criterion(prediction, eos)*mask.float()).mean()\n",
    "            loss.backward()\n",
    "            [x.grad.clamp_(-1, 1) for x in oracle.parameters()]\n",
    "            optimizer.step()\n",
    "\n",
    "            if i%5==0:\n",
    "                with torch.no_grad():\n",
    "                    (go, eos, mask, length) = next(test)\n",
    "                    prediction = oracle(go, length).transpose(0, 1).transpose(1, 2)\n",
    "                    loss = (criterion(prediction, eos)*mask.float()).mean()\n",
    "                    test_losses.append(np.exp(loss.item()))\n",
    "\n",
    "            if i % 50 == 0:\n",
    "                clear_output(True)\n",
    "                plt.plot(test_losses, label='Test')\n",
    "                plt.plot(moving_average(test_losses), label='MA@20')\n",
    "                plt.xlabel('iteration')\n",
    "                plt.ylabel('perplexity')\n",
    "                plt.legend()\n",
    "                plt.grid()\n",
    "                plt.show()\n",
    "    all_losses2.append((es,hs,l,test_losses))"
   ]
  },
  {
   "cell_type": "code",
   "execution_count": 29,
   "metadata": {
    "colab": {
     "base_uri": "https://localhost:8080/",
     "height": 173
    },
    "colab_type": "code",
    "id": "kpvhmgaPAw2P",
    "outputId": "49a210ed-dca2-4a41-d010-2256ff20786e"
   },
   "outputs": [
    {
     "name": "stdout",
     "output_type": "stream",
     "text": [
      "emb_size=128  hidden_size=256  num_layers=2  min_loss = 1.5382713625797597\n",
      "emb_size=128  hidden_size=512  num_layers=2  min_loss = 1.4540874218445663\n",
      "emb_size=128  hidden_size=768  num_layers=2  min_loss = 1.481269180718964\n",
      "emb_size=256  hidden_size=256  num_layers=2  min_loss = 1.5195762159059376\n",
      "emb_size=256  hidden_size=512  num_layers=2  min_loss = 1.4833797227396932\n",
      "emb_size=256  hidden_size=768  num_layers=2  min_loss = 1.477756035535145\n",
      "emb_size=512  hidden_size=256  num_layers=2  min_loss = 1.5491265737602686\n",
      "emb_size=512  hidden_size=512  num_layers=2  min_loss = 1.4956107231226305\n",
      "emb_size=512  hidden_size=768  num_layers=2  min_loss = 1.467178361116069\n"
     ]
    }
   ],
   "source": [
    "for es,hs,l,loss in all_losses2:\n",
    "    print(f'emb_size={es}  hidden_size={hs}  num_layers={l}  min_loss = {min(loss)}')"
   ]
  },
  {
   "cell_type": "markdown",
   "metadata": {
    "colab_type": "text",
    "id": "2j9Kt3w8pGdH"
   },
   "source": [
    "***Больший размер embedding_size или hidden_size ожидаемо улучшает качество. Интересно, что количество слоёв в LSTM лишь ухудшает качество. Это может быть связано с двумя вещами:<br>\n",
    "1) Прошло недостаточно количество эпох. Модель становится более сложной и не успевает обучиться<br>\n",
    "2) В LSTM есть много запоминающих элементов, возможно из-за этого сеть переобучивается (вряд-ли, потому что прошло слишком мало итераций и модель не особо подвержена переобучению)<br>\n",
    "3) Мы генерируем лишь одно предложение, видимо в двух слоях достаточно памяти чтобы запомнить важную часть контекста***"
   ]
  },
  {
   "cell_type": "markdown",
   "metadata": {
    "colab_type": "text",
    "id": "mozcH1HpGGHw"
   },
   "source": [
    "#### Feedback (опционально)"
   ]
  },
  {
   "cell_type": "markdown",
   "metadata": {
    "colab_type": "text",
    "id": "PsgOmkHLGGHx"
   },
   "source": [
    "Здесь вы можете оставить список опечаток из лекции или семинара:"
   ]
  },
  {
   "cell_type": "markdown",
   "metadata": {
    "colab_type": "raw",
    "id": "sJog_mG9GGHx"
   },
   "source": []
  },
  {
   "cell_type": "markdown",
   "metadata": {
    "colab_type": "text",
    "id": "GFUpbK-3GGHy"
   },
   "source": [
    "Здесь вы можете оставить комментарии по лекции или семинару:"
   ]
  },
  {
   "cell_type": "markdown",
   "metadata": {
    "colab_type": "raw",
    "id": "IMTy3XfEGGHy"
   },
   "source": []
  }
 ],
 "metadata": {
  "accelerator": "GPU",
  "colab": {
   "collapsed_sections": [],
   "name": "Practice task 10, NLP.ipynb",
   "provenance": []
  },
  "kernelspec": {
   "display_name": "Python 3",
   "language": "python",
   "name": "python3"
  },
  "language_info": {
   "codemirror_mode": {
    "name": "ipython",
    "version": 3
   },
   "file_extension": ".py",
   "mimetype": "text/x-python",
   "name": "python",
   "nbconvert_exporter": "python",
   "pygments_lexer": "ipython3",
   "version": "3.7.3"
  },
  "latex_envs": {
   "bibliofile": "biblio.bib",
   "cite_by": "apalike",
   "current_citInitial": 1,
   "eqLabelWithNumbers": true,
   "eqNumInitial": 0
  }
 },
 "nbformat": 4,
 "nbformat_minor": 1
}
